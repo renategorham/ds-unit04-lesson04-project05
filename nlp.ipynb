{
 "cells": [
  {
   "cell_type": "code",
   "execution_count": 1,
   "metadata": {},
   "outputs": [
    {
     "name": "stderr",
     "output_type": "stream",
     "text": [
      "/usr/local/lib/python3.6/dist-packages/sklearn/ensemble/weight_boosting.py:29: DeprecationWarning: numpy.core.umath_tests is an internal NumPy module and should not be imported. It will be removed in a future NumPy release.\n",
      "  from numpy.core.umath_tests import inner1d\n"
     ]
    }
   ],
   "source": [
    "from lib.get_abstracts import get_abstracts\n",
    "import numpy as np\n",
    "import pandas as pd\n",
    "import scipy\n",
    "import sklearn\n",
    "from sklearn import ensemble\n",
    "from sklearn.model_selection import train_test_split\n",
    "from sklearn.linear_model import LogisticRegression\n",
    "from sklearn.feature_extraction.text import TfidfVectorizer\n",
    "from sklearn.decomposition import TruncatedSVD\n",
    "from sklearn.pipeline import make_pipeline\n",
    "from sklearn.preprocessing import Normalizer\n",
    "import spacy\n",
    "import matplotlib.pyplot as plt\n",
    "import seaborn as sns\n",
    "import re\n",
    "from nltk.corpus import stopwords\n",
    "from collections import Counter\n",
    "%matplotlib inline"
   ]
  },
  {
   "cell_type": "code",
   "execution_count": 2,
   "metadata": {},
   "outputs": [],
   "source": [
    "# get_abstracts('precision medicine', 100, 'ragorham1@gmail.com', '3ffbbb6bd110815d69e4aa14b7c26d72ab09')\n",
    "# get_abstracts('autoimmune disease', 100, 'ragorham1@gmail.com', '3ffbbb6bd110815d69e4aa14b7c26d72ab09')"
   ]
  },
  {
   "cell_type": "code",
   "execution_count": 3,
   "metadata": {},
   "outputs": [],
   "source": [
    "df_pre = pd.read_csv('./data/precision medicine.csv', header=-1, dtype={1:str})\n",
    "df_aut = pd.read_csv('./data/autoimmune disease.csv', header=-1, dtype={1:str})"
   ]
  },
  {
   "cell_type": "code",
   "execution_count": 4,
   "metadata": {},
   "outputs": [],
   "source": [
    "def text_cleaner(text):\n",
    "    # Visual inspection identifies a form of punctuation spaCy does not\n",
    "    # recognize: the double dash '--'.  Better get rid of it now!\n",
    "    text = re.sub(r'--',' ',text)\n",
    "    text = re.sub(\"[\\[].*?[\\]]\", \"\", text)\n",
    "    text = ' '.join(text.split())\n",
    "    return text\n",
    "\n",
    "corpus_pre = []\n",
    "corpus_aut = []\n",
    "\n",
    "for i in df_pre.iloc[:,1]:\n",
    "    corpus_pre.append(i)\n",
    "corpus_pre = ' '.join(map(str, corpus_pre))\n",
    "corpus_pre = text_cleaner(corpus_pre)\n",
    "\n",
    "for i in df_aut.iloc[:,1]:\n",
    "    corpus_aut.append(i)\n",
    "corpus_aut = ' '.join(map(str, corpus_aut))\n",
    "corpus_aut = text_cleaner(corpus_aut)"
   ]
  },
  {
   "cell_type": "code",
   "execution_count": 5,
   "metadata": {},
   "outputs": [],
   "source": [
    "nlp = spacy.load('en')\n",
    "corpus_pre_doc = nlp(corpus_pre)\n",
    "corpus_aut_doc = nlp(corpus_aut)"
   ]
  },
  {
   "cell_type": "code",
   "execution_count": 6,
   "metadata": {},
   "outputs": [
    {
     "data": {
      "text/plain": [
       "(1341, 2)"
      ]
     },
     "execution_count": 6,
     "metadata": {},
     "output_type": "execute_result"
    }
   ],
   "source": [
    "pre_sent = [[sent, 'precision'] for sent in corpus_pre_doc.sents]\n",
    "aut_sent = [[sent, 'autoimmune'] for sent in corpus_aut_doc.sents]\n",
    "\n",
    "# Combine the sentences from the two novels into one data frame.\n",
    "sentences = pd.DataFrame(pre_sent + aut_sent)\n",
    "sentences.shape"
   ]
  },
  {
   "cell_type": "markdown",
   "metadata": {},
   "source": [
    "## Bag of words"
   ]
  },
  {
   "cell_type": "code",
   "execution_count": 7,
   "metadata": {},
   "outputs": [],
   "source": [
    "def bag_of_words(text):\n",
    "    allwords = [token.lemma_\n",
    "                for token in text\n",
    "                if not token.is_punct\n",
    "                and not token.is_stop]\n",
    "    return [item[0] for item in Counter(allwords).most_common(2000)]\n",
    "    \n",
    "def bow_features(sentences, common_words):\n",
    "    df = pd.DataFrame(columns=common_words)\n",
    "    df['text_sentence'] = sentences[0]\n",
    "    df['text_source'] = sentences[1]\n",
    "    df.loc[:, common_words] = 0\n",
    "    for i, sentence in enumerate(df['text_sentence']):\n",
    "        words = [token.lemma_\n",
    "                 for token in sentence\n",
    "                 if (\n",
    "                     not token.is_punct\n",
    "                     and not token.is_stop\n",
    "                     and token.lemma_ in common_words\n",
    "                 )]\n",
    "        for word in words:\n",
    "            df.loc[i, word] += 1\n",
    "        if i % 500 == 0:\n",
    "            print(\"Processing row {}\".format(i))\n",
    "            \n",
    "    return df\n",
    "\n",
    "# Set up the bags.\n",
    "precision_words = bag_of_words(corpus_pre_doc)\n",
    "autoimmune_words = bag_of_words(corpus_aut_doc)\n",
    "\n",
    "# Combine bags to create a set of unique words.\n",
    "common_words = set(precision_words + autoimmune_words)"
   ]
  },
  {
   "cell_type": "code",
   "execution_count": 8,
   "metadata": {},
   "outputs": [
    {
     "name": "stdout",
     "output_type": "stream",
     "text": [
      "Processing row 0\n",
      "Processing row 500\n",
      "Processing row 1000\n"
     ]
    },
    {
     "data": {
      "text/html": [
       "<div>\n",
       "<style>\n",
       "    .dataframe thead tr:only-child th {\n",
       "        text-align: right;\n",
       "    }\n",
       "\n",
       "    .dataframe thead th {\n",
       "        text-align: left;\n",
       "    }\n",
       "\n",
       "    .dataframe tbody tr th {\n",
       "        vertical-align: top;\n",
       "    }\n",
       "</style>\n",
       "<table border=\"1\" class=\"dataframe\">\n",
       "  <thead>\n",
       "    <tr style=\"text-align: right;\">\n",
       "      <th></th>\n",
       "      <th>orificial</th>\n",
       "      <th>limit</th>\n",
       "      <th>screen</th>\n",
       "      <th>utilize</th>\n",
       "      <th>comorbid</th>\n",
       "      <th>sick</th>\n",
       "      <th>distribution</th>\n",
       "      <th>friendly</th>\n",
       "      <th>antibody</th>\n",
       "      <th>multitest</th>\n",
       "      <th>...</th>\n",
       "      <th>plasma</th>\n",
       "      <th>infarction</th>\n",
       "      <th>young</th>\n",
       "      <th>virtually</th>\n",
       "      <th>respiratory</th>\n",
       "      <th>date</th>\n",
       "      <th>clinical</th>\n",
       "      <th>allergy</th>\n",
       "      <th>text_sentence</th>\n",
       "      <th>text_source</th>\n",
       "    </tr>\n",
       "  </thead>\n",
       "  <tbody>\n",
       "    <tr>\n",
       "      <th>0</th>\n",
       "      <td>0</td>\n",
       "      <td>0</td>\n",
       "      <td>0</td>\n",
       "      <td>0</td>\n",
       "      <td>0</td>\n",
       "      <td>0</td>\n",
       "      <td>0</td>\n",
       "      <td>0</td>\n",
       "      <td>0</td>\n",
       "      <td>0</td>\n",
       "      <td>...</td>\n",
       "      <td>0</td>\n",
       "      <td>0</td>\n",
       "      <td>0</td>\n",
       "      <td>0</td>\n",
       "      <td>0</td>\n",
       "      <td>0</td>\n",
       "      <td>0</td>\n",
       "      <td>0</td>\n",
       "      <td>(The, purpose, of, this, study, was, to, inves...</td>\n",
       "      <td>precision</td>\n",
       "    </tr>\n",
       "    <tr>\n",
       "      <th>1</th>\n",
       "      <td>0</td>\n",
       "      <td>0</td>\n",
       "      <td>0</td>\n",
       "      <td>0</td>\n",
       "      <td>0</td>\n",
       "      <td>0</td>\n",
       "      <td>0</td>\n",
       "      <td>0</td>\n",
       "      <td>0</td>\n",
       "      <td>0</td>\n",
       "      <td>...</td>\n",
       "      <td>0</td>\n",
       "      <td>0</td>\n",
       "      <td>0</td>\n",
       "      <td>0</td>\n",
       "      <td>0</td>\n",
       "      <td>0</td>\n",
       "      <td>0</td>\n",
       "      <td>0</td>\n",
       "      <td>(Smilacis, Glabrae, Rhizoma, (, SGR, ), ,, kno...</td>\n",
       "      <td>precision</td>\n",
       "    </tr>\n",
       "    <tr>\n",
       "      <th>2</th>\n",
       "      <td>0</td>\n",
       "      <td>0</td>\n",
       "      <td>0</td>\n",
       "      <td>0</td>\n",
       "      <td>0</td>\n",
       "      <td>0</td>\n",
       "      <td>0</td>\n",
       "      <td>0</td>\n",
       "      <td>0</td>\n",
       "      <td>0</td>\n",
       "      <td>...</td>\n",
       "      <td>0</td>\n",
       "      <td>0</td>\n",
       "      <td>0</td>\n",
       "      <td>0</td>\n",
       "      <td>0</td>\n",
       "      <td>0</td>\n",
       "      <td>0</td>\n",
       "      <td>0</td>\n",
       "      <td>(The, post, -, harvest, drying, of, SGR, has, ...</td>\n",
       "      <td>precision</td>\n",
       "    </tr>\n",
       "    <tr>\n",
       "      <th>3</th>\n",
       "      <td>0</td>\n",
       "      <td>0</td>\n",
       "      <td>0</td>\n",
       "      <td>0</td>\n",
       "      <td>0</td>\n",
       "      <td>0</td>\n",
       "      <td>0</td>\n",
       "      <td>0</td>\n",
       "      <td>0</td>\n",
       "      <td>0</td>\n",
       "      <td>...</td>\n",
       "      <td>0</td>\n",
       "      <td>0</td>\n",
       "      <td>0</td>\n",
       "      <td>0</td>\n",
       "      <td>0</td>\n",
       "      <td>0</td>\n",
       "      <td>0</td>\n",
       "      <td>0</td>\n",
       "      <td>(Recent, reports, show, that, sulfur, fumigati...</td>\n",
       "      <td>precision</td>\n",
       "    </tr>\n",
       "    <tr>\n",
       "      <th>4</th>\n",
       "      <td>0</td>\n",
       "      <td>0</td>\n",
       "      <td>0</td>\n",
       "      <td>0</td>\n",
       "      <td>0</td>\n",
       "      <td>0</td>\n",
       "      <td>0</td>\n",
       "      <td>0</td>\n",
       "      <td>0</td>\n",
       "      <td>0</td>\n",
       "      <td>...</td>\n",
       "      <td>0</td>\n",
       "      <td>0</td>\n",
       "      <td>0</td>\n",
       "      <td>0</td>\n",
       "      <td>0</td>\n",
       "      <td>0</td>\n",
       "      <td>0</td>\n",
       "      <td>0</td>\n",
       "      <td>(Radiology, reports, are, rich, resources, for...</td>\n",
       "      <td>precision</td>\n",
       "    </tr>\n",
       "  </tbody>\n",
       "</table>\n",
       "<p>5 rows × 3208 columns</p>\n",
       "</div>"
      ],
      "text/plain": [
       "  orificial limit screen utilize comorbid sick distribution friendly antibody  \\\n",
       "0         0     0      0       0        0    0            0        0        0   \n",
       "1         0     0      0       0        0    0            0        0        0   \n",
       "2         0     0      0       0        0    0            0        0        0   \n",
       "3         0     0      0       0        0    0            0        0        0   \n",
       "4         0     0      0       0        0    0            0        0        0   \n",
       "\n",
       "  multitest     ...     plasma infarction young virtually respiratory date  \\\n",
       "0         0     ...          0          0     0         0           0    0   \n",
       "1         0     ...          0          0     0         0           0    0   \n",
       "2         0     ...          0          0     0         0           0    0   \n",
       "3         0     ...          0          0     0         0           0    0   \n",
       "4         0     ...          0          0     0         0           0    0   \n",
       "\n",
       "  clinical allergy                                      text_sentence  \\\n",
       "0        0       0  (The, purpose, of, this, study, was, to, inves...   \n",
       "1        0       0  (Smilacis, Glabrae, Rhizoma, (, SGR, ), ,, kno...   \n",
       "2        0       0  (The, post, -, harvest, drying, of, SGR, has, ...   \n",
       "3        0       0  (Recent, reports, show, that, sulfur, fumigati...   \n",
       "4        0       0  (Radiology, reports, are, rich, resources, for...   \n",
       "\n",
       "  text_source  \n",
       "0   precision  \n",
       "1   precision  \n",
       "2   precision  \n",
       "3   precision  \n",
       "4   precision  \n",
       "\n",
       "[5 rows x 3208 columns]"
      ]
     },
     "execution_count": 8,
     "metadata": {},
     "output_type": "execute_result"
    }
   ],
   "source": [
    "word_counts = bow_features(sentences, common_words)\n",
    "word_counts.head()"
   ]
  },
  {
   "cell_type": "code",
   "execution_count": 9,
   "metadata": {},
   "outputs": [
    {
     "name": "stdout",
     "output_type": "stream",
     "text": [
      "Training set score: 0.9875621890547264\n",
      "\n",
      "Test set score: 0.7560521415270018\n"
     ]
    }
   ],
   "source": [
    "rfc = ensemble.RandomForestClassifier()\n",
    "y = word_counts['text_source']\n",
    "X = np.array(word_counts.drop(['text_sentence','text_source'], 1))\n",
    "\n",
    "X_train, X_test, y_train, y_test = train_test_split(X, \n",
    "                                                    y,\n",
    "                                                    test_size=0.4,\n",
    "                                                    random_state=0)\n",
    "train = rfc.fit(X_train, y_train)\n",
    "\n",
    "print('Training set score:', rfc.score(X_train, y_train))\n",
    "print('\\nTest set score:', rfc.score(X_test, y_test))"
   ]
  },
  {
   "cell_type": "code",
   "execution_count": 10,
   "metadata": {},
   "outputs": [
    {
     "name": "stdout",
     "output_type": "stream",
     "text": [
      "(804, 3206) (804,)\n",
      "Training set score: 0.9900497512437811\n",
      "\n",
      "Test set score: 0.8100558659217877\n"
     ]
    }
   ],
   "source": [
    "lr = LogisticRegression()\n",
    "train = lr.fit(X_train, y_train)\n",
    "print(X_train.shape, y_train.shape)\n",
    "print('Training set score:', lr.score(X_train, y_train))\n",
    "print('\\nTest set score:', lr.score(X_test, y_test))"
   ]
  },
  {
   "cell_type": "code",
   "execution_count": 11,
   "metadata": {},
   "outputs": [
    {
     "name": "stdout",
     "output_type": "stream",
     "text": [
      "Training set score: 0.904228855721393\n",
      "\n",
      "Test set score: 0.7188081936685289\n"
     ]
    }
   ],
   "source": [
    "clf = ensemble.GradientBoostingClassifier()\n",
    "train = clf.fit(X_train, y_train)\n",
    "\n",
    "print('Training set score:', clf.score(X_train, y_train))\n",
    "print('\\nTest set score:', clf.score(X_test, y_test))"
   ]
  },
  {
   "cell_type": "markdown",
   "metadata": {},
   "source": [
    "## tf-idf"
   ]
  },
  {
   "cell_type": "code",
   "execution_count": 12,
   "metadata": {},
   "outputs": [],
   "source": [
    "df_pre = df_pre.dropna()\n",
    "\n",
    "abs_pre = []\n",
    "\n",
    "for abstract in df_pre.iloc[:,1]:\n",
    "    abs_pre.append(abstract)\n"
   ]
  },
  {
   "cell_type": "code",
   "execution_count": 13,
   "metadata": {},
   "outputs": [
    {
     "name": "stdout",
     "output_type": "stream",
     "text": [
      "Number of features: 1093\n",
      "Original sentence: RNA-binding proteins (RBPs) play pivotal roles in directing RNA fate and function. Yet the current annotation of RBPs is largely limited to proteins carrying known RNA-binding domains. To systematically reveal dynamic RNA-protein interactions, we surveyed the human proteome by a protein array-based approach and identified 671 proteins with RNA-binding activity. Among these proteins, 525 lack annotated RNA-binding domains and are enriched in transcriptional and epigenetic regulators, metabolic enzymes, and small GTPases. Using an improved CLIP (crosslinking and immunoprecipitation) method, we performed genome-wide target profiling of isocitrate dehydrogenase 1 (IDH1), a novel RBP. IDH1 binds to thousands of RNA transcripts with enriched functions in transcription and chromatin regulation, cell cycle and RNA processing. Purified IDH1, but not an oncogenic mutant, binds directly to GA- or AU-rich RNA that are also enriched in IDH1 CLIP targets. Our study provides useful resources of unconventional RBPs and IDH1-bound transcriptome, and convincingly illustrates, for the first time, the in vivo and in vitro RNA targets and binding preferences of IDH1, revealing an unanticipated complexity of RNA regulation in diverse cellular processes.\n",
      "Tf_idf vector: {'diverse': 0.066816099555405, 'complexity': 0.066816099555405, 'vitro': 0.066816099555405, 'vivo': 0.066816099555405, 'illustrates': 0.07155478367247112, 'transcriptome': 0.066816099555405, 'useful': 0.066816099555405, 'targets': 0.11079723058242451, 'ga': 0.07155478367247112, 'mutant': 0.07155478367247112, 'oncogenic': 0.06013729940827836, 'processing': 0.066816099555405, 'cycle': 0.07155478367247112, 'chromatin': 0.07155478367247112, 'transcription': 0.07155478367247112, 'functions': 0.066816099555405, 'transcripts': 0.07155478367247112, 'novel': 0.055398615291212254, 'performed': 0.05015306201494831, 'method': 0.04298252541334217, 'immunoprecipitation': 0.07155478367247112, 'improved': 0.06013729940827836, 'using': 0.038003370632408585, 'small': 0.05759813743719375, 'metabolic': 0.05759813743719375, 'epigenetic': 0.07155478367247112, 'transcriptional': 0.066816099555405, 'enriched': 0.20044829866621502, 'annotated': 0.07155478367247112, 'lack': 0.07155478367247112, 'identified': 0.046180653173001, 'approach': 0.05172300633363425, 'proteome': 0.07155478367247112, 'interactions': 0.063140490597827, 'protein': 0.12027459881655672, 'dynamic': 0.066816099555405, 'reveal': 0.066816099555405, 'domains': 0.13363219911081, 'carrying': 0.063140490597827, 'limited': 0.05759813743719375, 'current': 0.04871981514408561, 'proteins': 0.26726439822162, 'binding': 0.3006864970413918, 'rna': 0.7349770951094551, 'time': 0.04740135583132073, 'target': 0.05015306201494831, 'cell': 0.04030552206944149, 'regulation': 0.1151962748743875, 'play': 0.066816099555405, 'wide': 0.04740135583132073, 'cellular': 0.05759813743719375, 'provides': 0.053458499261151725, 'function': 0.05172300633363425, 'based': 0.04030552206944149, 'human': 0.046180653173001, 'genome': 0.043981131027019504, 'annotation': 0.066816099555405, 'resources': 0.066816099555405, 'rich': 0.063140490597827, 'activity': 0.055398615291212254, 'known': 0.05759813743719375, 'study': 0.03476316890880824}\n"
     ]
    }
   ],
   "source": [
    "X_train, X_test = train_test_split(abs_pre, test_size=0.4, random_state=0)\n",
    "\n",
    "vectorizer = TfidfVectorizer(max_df=0.5, # drop words that occur in more than half the paragraphs\n",
    "                             min_df=2, # only use words that appear at least twice\n",
    "                             stop_words='english', \n",
    "                             lowercase=True, #convert everything to lower case (since Alice in Wonderland has the HABIT of CAPITALIZING WORDS for EMPHASIS)\n",
    "                             use_idf=True,#we definitely want to use inverse document frequencies in our weighting\n",
    "                             norm=u'l2', #Applies a correction factor so that longer paragraphs and shorter paragraphs get treated equally\n",
    "                             smooth_idf=True #Adds 1 to all document frequencies, as if an extra document existed that used every word once.  Prevents divide-by-zero errors\n",
    "                            )\n",
    "\n",
    "\n",
    "#Applying the vectorizer\n",
    "abs_pre_tfidf=vectorizer.fit_transform(abs_pre)\n",
    "print(\"Number of features: %d\" % abs_pre_tfidf.get_shape()[1])\n",
    "\n",
    "#splitting into training and test sets\n",
    "X_train_tfidf, X_test_tfidf= train_test_split(abs_pre_tfidf, test_size=0.4, random_state=0)\n",
    "\n",
    "\n",
    "#Reshapes the vectorizer output into something people can read\n",
    "X_train_tfidf_csr = X_train_tfidf.tocsr()\n",
    "\n",
    "#number of paragraphs\n",
    "n = X_train_tfidf_csr.shape[0]\n",
    "#A list of dictionaries, one per paragraph\n",
    "tfidf_bypara = [{} for _ in range(0,n)]\n",
    "#List of features\n",
    "terms = vectorizer.get_feature_names()\n",
    "#for each paragraph, lists the feature words and their tf-idf scores\n",
    "for i, j in zip(*X_train_tfidf_csr.nonzero()):\n",
    "    tfidf_bypara[i][terms[j]] = X_train_tfidf_csr[i, j]\n",
    "\n",
    "#Keep in mind that the log base 2 of 1 is 0, so a tf-idf score of 0 indicates that the word was present once in that sentence.\n",
    "print('Original sentence:', X_train[5])\n",
    "print('Tf_idf vector:', tfidf_bypara[5])"
   ]
  },
  {
   "cell_type": "code",
   "execution_count": 14,
   "metadata": {},
   "outputs": [
    {
     "name": "stdout",
     "output_type": "stream",
     "text": [
      "Percent variance captured by all components: 99.99999999999997\n",
      "Component 0:\n",
      "Germline variants of <i>PIP4K2A</i> impact susceptibility of acute lymphoblastic leukemia (ALL) through inducing its overexpression. Although limited reports suggested the oncogenic role of <i>PIP4K2A</i> in cancers, regulatory network and prognostic effect of this gene remains poorly understood in tumorigenesis and leukemogenesis. In this study, we conducted genome-wide gene expression association analyses in pediatric B-ALL cohorts to discover expression associated genes and pathways, which is followed by the bioinformatics analyses to investigate the prognostic role of <i>PIP4K2A</i> and its related genes in multiple cancer types. 214 candidates were identified to be significantly associated with <i>PIP4K2A</i> expression in ALL patients, with known cancer-related genes rankings the top (e.g., <i>RAC2</i>, <i>RBL2</i>, and <i>TFDP1</i>). These candidates do not only tend to be clustered in the same types of leukemia, but can also separate the patients into novel molecular subtypes. <i>PIP4K2A</i> is noticed to be frequently overexpressed in multiple other types of leukemia and solid cancers from cancer cohorts including TCGA, and associated with its candidates in subtype-specific and cancer-specific manners. Interestingly, the association status varied in tumors compared to their matched normal tissues. Moreover, <i>PIP4K2A</i> and its related candidates exhibit stage-independent prognostic effects in multiple cancers, mostly with its lower expression significantly associated with longer overall survival (<i>p</i> < 0.05). Our findings reveal the transcriptional regulatory network of <i>PIP4K2A</i> in leukemia, and suggest its potentially important role on molecular subtypes of multiple cancers and subsequent treatment outcomes.                                                   0.371009\n",
      "Pathogenic variants of the KCNJ13 gene are known to cause Leber congenital amaurosis (LCA16), an inherited pediatric blindness. KCNJ13 encodes the Kir7.1 subunit that acts as a tetrameric, inwardly rectifying potassium ion channel in the retinal pigment epithelium (RPE) to maintain ionic homeostasis and allow photoreceptors to encode visual information. We sought to determine whether genetic approaches might be effective in treating blindness arising from pathogenic variants in KCNJ13. We derived human induced pluripotent stem cell (hiPSC)-RPE cells from an individual carrying a homozygous c.158G>A (p.Trp53<sup>∗</sup>) pathogenic variant of KCNJ13. We performed biochemical and electrophysiology assays to confirm Kir7.1 function. We tested both small-molecule readthrough drug and gene-therapy approaches for this \"disease-in-a-dish\" approach. We found that the LCA16 hiPSC-RPE cells had normal morphology but did not express a functional Kir7.1 channel and were unable to demonstrate normal physiology. After readthrough drug treatment, the LCA16 hiPSC cells were hyperpolarized by 30 mV, and the Kir7.1 current was restored. Similarly, we rescued Kir7.1 channel function after lentiviral gene delivery to the hiPSC-RPE cells. In both approaches, Kir7.1 was expressed normally, and there was restoration of membrane potential and the Kir7.1 current. Loss-of-function variants of Kir7.1 are one cause of LCA. Using either readthrough therapy or gene augmentation, we rescued Kir7.1 channel function in iPSC-RPE cells derived from an affected individual. This supports the development of precision-medicine approaches for the treatment of clinical LCA16.                                                                                                                                                     0.361156\n",
      "Bladder cancer is the fourth most common cancer in men and the ninth most common in women in the Western world. The management of bladder carcinoma requires a multidisciplinary approach. Optimal treatment depends on several factors, including histology, stage, patient status, and possible comorbidities. Here we review recent findings on the treatment of muscle-invasive bladder carcinoma, advanced urothelial carcinoma, upper tract urothelial carcinoma, non-urothelial carcinoma, and urologic complications arising from the disease or treatment. In addition, we present the recommendations of the Spanish Oncology Genitourinary Group for the treatment of these diseases, based on a focused analysis of clinical management and the potential of current research, including recent findings on the potential benefit of immunotherapy. In recent years, whole-genome approaches have provided new predictive biomarkers and promising molecular targets that could lead to precision medicine in bladder cancer. Moreover, the involvement of other specialists in addition to urologists will ensure not only appropriate therapeutic decisions but also adequate follow-up for response evaluation and management of complications. It is crucial, however, to apply recent molecular findings and implement clinical guidelines as soon as possible in order to maximize therapeutic gains and improve patient prognosis.                                                                                                                                                                                                                                                                                                                                                                                                                               0.358105\n",
      "Cancer is a heterogeneous disease with unique genomic and phenotypic features that differ between individual patients and even among individual tumor regions. In recent years, large-scale genomic studies and new next-generation sequencing technologies have uncovered more scientific details about tumor heterogeneity, with significant implications for the choice of specific molecular biomarkers and clinical decision making. Genomic heterogeneity significantly contributes to the generation of a diverse cell population during tumor development and progression, representing a determining factor for variation in tumor treatment response. It has been considered a prominent contributor to therapeutic failure, and increases the likelihood of resistance to future therapies in most common cancers. The understanding of molecular heterogeneity in cancer is a fundamental component of precision oncology, enabling the identification of genomic alteration of key genes and pathways that can be targeted therapeutically. Here, we review the emerging knowledge of tumor genomics and heterogeneity, as well as potential implications for precision medicine in cancer treatment and new therapeutic discoveries. An analysis and interpretation of the TCGA database was included.                                                                                                                                                                                                                                                                                                                                                                                                                                                                                                                                                                0.358029\n",
      "Untreated Obstructive sleep apnea (OSA) is associated with an increased risk of cardiometabolic diseases such as diabetes and myocardial infarction. However, it is difficult to predict which patients are at particularly high risk. This systematic review aimed to identify potentially useful circulating biomarkers that could predict cardiometabolic complications in OSA. We searched Cochrane (EBM), EMBASE, Medline, PubMed, and Web of Science databases. Search concepts included: \"Obstructive Sleep Apnea\", \"Biomarkers\" and \"Risk-Stratification\". Manuscripts were included if they studied adults with OSA, circulating (blood) markers, and relationships with clinical outcomes. After screening, 10 were included. Studies addressed cardiovascular disease, type 2 diabetes, end-stage renal disease and metabolic syndrome. In general, levels of inflammatory markers, adhesion molecules, and vascular proteins were associated with the presence of cardiometabolic disease in OSA patients. Although studies regarding prognostic circulating biomarkers in OSA are limited, a number of potentially promising biomarkers were identified in our review. However, more research is needed using prospective cohorts to determine which biomarkers are most robustly associated with and useful in predicting future cardiovascular and metabolic sequelae in OSA patients. Identification of such biomarkers could guide more selective and targeted therapy for OSA in an emerging era of precision-based medicine.                                                                                                                                                                                                                                                                                                                                     0.354023\n",
      "Histone methylation is thought to control the regulation of genetic program and the dysregulation of it has been found to be closely associated with cancer. JMJD3 has been identified as an H3K27 demethylase and its role in cancer development is context specific. The role of JMJD3 in gastric cancer (GC) has not been examined. In this study, JMJD3 expression was determined. The prognostic significance of JMJD3 and its association with clinical parameters were evaluated. JMJD3 dysregulation mechanism and targets were analyzed. The effect of JMJD3 mutation was determined by functional study. Results showed that JMJD3 was overexpressed in different patient cohorts and also by bioinformatics analysis. High JMJD3 expression was correlated with shortened overall survival in patients with GC and was an independent prognosis predictor. Genetic aberration and DNA methylation might be involved in the deregulation of JMJD3 in GC. Downstream network of JMJD3 was analyzed and several novel potential targets were identified. Furthermore, functional study discovered that both demethylase-dependent and demethylase-independent mechanisms were involved in the oncogenic role of JMJD3 in GC. Importantly, histone demethylase inhibitor GSK-J4 could reverse the oncogenic effect of JMJD3 overexpression. In conclusion, our study report the oncogenic role of JMJD3 in GC for the first time. JMJD3 might serve as an important epigenetic therapeutic target and/or prognostic predictor in GC.                                                                                                                                                                                                                                                                                                                                         0.339345\n",
      "The genomic predisposition to oncology-drug-induced cardiovascular toxicity has been postulated for many decades. Only recently has it become possible to experimentally validate this hypothesis via the use of patient-specific human induced pluripotent stem cells (hiPSCs) and suitably powered genome-wide association studies (GWAS). Identifying the individual single nucleotide polymorphisms (SNPs) responsible for the susceptibility to toxicity from a specific drug is a daunting task as this precludes the use of one of the most powerful tools in genomics: comparing phenotypes to close relatives, as these are highly unlikely to have been treated with the same drug. Great strides have been made through the use of candidate gene association studies (CGAS) and increasingly large GWAS studies, as well as in vivo whole-organism studies to further our mechanistic understanding of this toxicity. The hiPSC model is a powerful technology to build on this work and identify and validate causal variants in mechanistic pathways through directed genomic editing such as CRISPR. The causative variants identified through these studies can then be implemented clinically to identify those likely to experience cardiovascular toxicity and guide treatment options. Additionally, targets identified through hiPSC studies can inform future drug development. Through careful phenotypic characterization, identification of genomic variants that contribute to gene function and expression, and genomic editing to verify mechanistic pathways, hiPSC technology is a critical tool for drug discovery and the realization of precision medicine in cardio-oncology.                                                                                                                                                                     0.333625\n",
      "Age- and body mass index (BMI)-adjusted mammographic density is one the strongest breast cancer risk factors. DNA methylation is a molecular mechanism that could underlie inter-individual variation in mammographic density. We aimed to investigate the association between breast cancer risk-predicting mammographic density measures and blood DNA methylation. For 436 women from the Australian Mammographic Density Twins and Sisters Study and 591 women from the Melbourne Collaborative Cohort Study, mammographic density (dense area, non-dense area and percentage dense area) defined by the conventional brightness threshold was measured using the CUMULUS software, and peripheral blood DNA methylation was measured using the HumanMethylation450 (HM450) BeadChip assay. Associations between DNA methylation at >400,000 sites and mammographic density measures adjusted for age and BMI were assessed within each cohort and pooled using fixed-effect meta-analysis. Associations with methylation at genetic loci known to be associated with mammographic density were also examined. We found no genome-wide significant (P<10<sup>-7</sup> ) association for any mammographic density measure from the meta-analysis, or from the cohort-specific analyses. None of the 299 methylation sites located at genetic loci associated with mammographic density was associated with any mammographic density measure after adjusting for multiple testing (all P>0.05/299 = 1.7 × 10<sup>-4</sup> ). In summary, our study did not detect associations between blood DNA methylation, as measured by the HM450 assay, and conventional mammographic density measures that predict breast cancer risk. This article is protected by copyright. All rights reserved.                                                                                        0.327941\n",
      "Increasing evidence has suggested that the presence of remnant lipoproteins is a significant risk factor for atherosclerosis. Remnant lipoproteins are lipoproteins that are rich in triglycerides (TGs), and the main components include very-low-density lipoprotein (VLDL) in the fasting state. Diabetic patients often have hypertriglyceridemia with elevated levels of VLDL cholesterol but normal levels of low-density lipoprotein cholesterol (LDL-C). The aim of the present study was to elucidate the potential role of remnant lipoproteins-induced atherosclerosis in the occurrence and development of in-stent restenosis (ISR) in diabetic patients with coronary artery disease.                                                                                                                                                                                                                                                                                                                                                                                                                                                                                                                                                                                                                                                                                                                                                                                                                                                                                                                                                                                                                                                                                                                                                                                 0.309104\n",
      "This Strategic Research Agenda identifies current challenges and needs in healthcare, illustrates how biomedical imaging and derived data can help to address these, and aims to stimulate dedicated research funding efforts.Medicine is currently moving towards a more tailored, patient-centric approach by providing personalised solutions for the individual patient. Innovation in biomedical imaging plays a key role in this process as it addresses the current needs for individualised prevention, treatment, therapy response monitoring, and image-guided surgery.The use of non-invasive biomarkers facilitates better therapy prediction and monitoring, leading to improved patient outcomes. Innovative diagnostic imaging technologies provide information about disease characteristics which, coupled with biological, genetic and -omics data, will contribute to an individualised diagnosis and therapy approach.In the emerging field of theranostics, imaging tools together with therapeutic agents enable the selection of best treatments and allow tailored therapeutic interventions.For prenatal monitoring, the use of innovative imaging technologies can ensure an early detection of malfunctions or disease.The application of biomedical imaging for diagnosis and management of lifestyle-induced diseases will help to avoid disease development through lifestyle changes.Artificial intelligence and machine learning in imaging will facilitate the improvement of image interpretation and lead to better disease prediction and therapy planning.As biomedical imaging technologies and analysis of existing imaging data provide solutions to current challenges and needs in healthcare, appropriate funding for dedicated research is needed to implement the innovative approaches for the wellbeing of citizens and patients.    0.300248\n",
      "Name: 0, dtype: float64\n",
      "Component 1:\n",
      "The correct ordering and designations for corresponding/first authors are as follows: Shanshan Wang<sup>1,2*</sup>, Mingyue Zhu<sup>3</sup>, Qiaoyun Wang<sup>3</sup>, Yuli Hou<sup>4</sup>, Lei Li<sup>5</sup>, Honglei Weng<sup>6</sup>, Yan Zhao<sup>4</sup>, Dexi Chen<sup>1,2</sup>, Junli Guo<sup>3</sup>, Huiguo Ding<sup>#5</sup>, Mengsen Li<sup>#3</sup>.                                                                                                                                                                                                                                                                                                                                                                                                                                                                                                                                                                                                                                                                                                                                                                                                                                                                                                                                                                                                                                                                                                                                                                                                                                                                                                                                                                                                                                                                                                                                                                                                                                                                                                                                                                                                                                                                                                                                                                                                                                                                                       0.831065\n",
      "At the time of publication, radiopharmaceuticals labelled with thorium-227 are in clinical trials in Europe for the treatment of various types of cancer. In part I of this two-part series the primary standardisation of an aqueous solution of <sup>227</sup>Th was reported. In part II, the activity derived from the recommended absolute γ-ray emission intensities have been compared to that from the primary standardisation techniques. This comparison showed a negative bias of 4% in the determined activity per unit mass with an 11% spread in the activities determined for the eight most intense γ-ray emissions (I<sub>γ</sub> > 1%) from the <sup>227</sup>Th α decay. Using the standardised <sup>227</sup>Th, measurements of the characteristic γ-ray emissions from the <sup>223</sup>Ra excited states were made using a calibrated HPGe γ-ray spectrometer. This has enabled the absolute intensities of 70 γ ray emissions from the <sup>227</sup>Th α-decay to be experimentally determined. A significant improvement over the precision of the recommended normalisation scaling factor has been made, with a value of 12.470 (35) % determined. Typically, the precision of the intensities has been improved by an order of magnitude or greater than current recommended values. The correlation matrices for pairs of the most intense γ-ray emission intensities are presented.                                                                                                                                                                                                                                                                                                                                                                                                                                                                                                                                                                                                                                                                                                                                                                                                                                                                                                                                                                                                                                       0.736458\n",
      "Heart disease is the leading cause of death worldwide. A key pathogenic factor in the development of lethal heart failure is loss of terminally differentiated cardiomyocytes. However, mechanisms of cardiomyocyte death remain unclear. Here, we discovered and demonstrated that ferroptosis, a programmed iron-dependent cell death, as a mechanism in murine models of doxorubicin (DOX)- and ischemia/reperfusion (I/R)-induced cardiomyopathy. In canonical apoptosis and/or necroptosis-defective <i>Ripk3</i><sup>-/-</sup>, <i>Mlkl</i><sup>-/-</sup>, or <i>Fadd</i><sup>-/-</sup><i>Mlkl</i><sup>-/-</sup> mice, DOX-treated cardiomyocytes showed features of typical ferroptotic cell death. Consistently, compared with dexrazoxane, the only FDA-approved drug for treating DOX-induced cardiotoxicity, inhibition of ferroptosis by ferrostatin-1 significantly reduced DOX cardiomyopathy. RNA-sequencing results revealed that heme oxygenase-1 (<i>Hmox1</i>) was significantly up-regulated in DOX-treated murine hearts. Administering DOX to mice induced cardiomyopathy with a rapid, systemic accumulation of nonheme iron via heme degradation by Nrf2-mediated up-regulation of Hmox1, which effect was abolished in <i>Nrf2</i>-deficent mice. Conversely, zinc protoporphyrin IX, an Hmox1 antagonist, protected the DOX-treated mice, suggesting free iron released on heme degradation is necessary and sufficient to induce cardiac injury. Given that ferroptosis is driven by damage to lipid membranes, we further investigated and found that excess free iron accumulated in mitochondria and caused lipid peroxidation on its membrane. Mitochondria-targeted antioxidant MitoTEMPO significantly rescued DOX cardiomyopathy, supporting oxidative damage of mitochondria as a major mechanism in ferroptosis-induced heart damage. Importantly, ferrostatin-1 and iron chelation also ameliorated heart failure induced by both acute and chronic I/R in mice. These findings highlight that targeting ferroptosis serves as a cardioprotective strategy for cardiomyopathy prevention.                                                                                                                                                                                                                                                                                                                            0.554869\n",
      "Age- and body mass index (BMI)-adjusted mammographic density is one the strongest breast cancer risk factors. DNA methylation is a molecular mechanism that could underlie inter-individual variation in mammographic density. We aimed to investigate the association between breast cancer risk-predicting mammographic density measures and blood DNA methylation. For 436 women from the Australian Mammographic Density Twins and Sisters Study and 591 women from the Melbourne Collaborative Cohort Study, mammographic density (dense area, non-dense area and percentage dense area) defined by the conventional brightness threshold was measured using the CUMULUS software, and peripheral blood DNA methylation was measured using the HumanMethylation450 (HM450) BeadChip assay. Associations between DNA methylation at >400,000 sites and mammographic density measures adjusted for age and BMI were assessed within each cohort and pooled using fixed-effect meta-analysis. Associations with methylation at genetic loci known to be associated with mammographic density were also examined. We found no genome-wide significant (P<10<sup>-7</sup> ) association for any mammographic density measure from the meta-analysis, or from the cohort-specific analyses. None of the 299 methylation sites located at genetic loci associated with mammographic density was associated with any mammographic density measure after adjusting for multiple testing (all P>0.05/299 = 1.7 × 10<sup>-4</sup> ). In summary, our study did not detect associations between blood DNA methylation, as measured by the HM450 assay, and conventional mammographic density measures that predict breast cancer risk. This article is protected by copyright. All rights reserved.                                                                                                                                                                                                                                                                                                                                                                                                                                                                                                                                                                                                                                                              0.150315\n",
      "Pathogenic variants of the KCNJ13 gene are known to cause Leber congenital amaurosis (LCA16), an inherited pediatric blindness. KCNJ13 encodes the Kir7.1 subunit that acts as a tetrameric, inwardly rectifying potassium ion channel in the retinal pigment epithelium (RPE) to maintain ionic homeostasis and allow photoreceptors to encode visual information. We sought to determine whether genetic approaches might be effective in treating blindness arising from pathogenic variants in KCNJ13. We derived human induced pluripotent stem cell (hiPSC)-RPE cells from an individual carrying a homozygous c.158G>A (p.Trp53<sup>∗</sup>) pathogenic variant of KCNJ13. We performed biochemical and electrophysiology assays to confirm Kir7.1 function. We tested both small-molecule readthrough drug and gene-therapy approaches for this \"disease-in-a-dish\" approach. We found that the LCA16 hiPSC-RPE cells had normal morphology but did not express a functional Kir7.1 channel and were unable to demonstrate normal physiology. After readthrough drug treatment, the LCA16 hiPSC cells were hyperpolarized by 30 mV, and the Kir7.1 current was restored. Similarly, we rescued Kir7.1 channel function after lentiviral gene delivery to the hiPSC-RPE cells. In both approaches, Kir7.1 was expressed normally, and there was restoration of membrane potential and the Kir7.1 current. Loss-of-function variants of Kir7.1 are one cause of LCA. Using either readthrough therapy or gene augmentation, we rescued Kir7.1 channel function in iPSC-RPE cells derived from an affected individual. This supports the development of precision-medicine approaches for the treatment of clinical LCA16.                                                                                                                                                                                                                                                                                                                                                                                                                                                                                                                                                                                                                                                                                                                           0.138825\n",
      "The early detection of acute myocardial infarction (AMI) upon the onset of chest pain symptoms is crucial for patient survival. However, this detection is challenging, particularly without a persistent elevation of ST-segment reflected in an electrocardiogram or in blood tests. A majority of the available point-of-care testing devices allow accurate and rapid diagnosis of AMI. However, AMI diagnosis is reliable only at intermediate and later stages, with myocardial injury (> 6 h) and MI, based on the expression of specific cardiac biomarkers including troponin I or T (cTnI or cTnT), creatine kinase-MB (CK-MB), and myoglobin. Diagnosis at the early myocardial ischemia stage is not possible. To overcome this limitation, a sensitive and rapid microfluidic paper-based device (µPAD) was developed for the simultaneous detection of multiple cardiac biomarkers for the early and late diagnosis of AMI. The glycogen phosphorylase isoenzyme BB (GPBB) was detected during early (within first 4 h) ischemic myocardial injury. On the same µPAD platform, detection of prolonged elevation of levels of cTnT and CK-MB, which are only produced 6 h after the onset of chest pain in human serum, was possible. Sandwich immunoassay performed on the µPAD achieved reproducibility (RSD approximately 10% and intra-and inter-day precision (CV 10-20%, 99th percentile), as well as consistently stable test results for 28 days, with strong correlation (r<sup>2</sup>= 0.962), using the standard Siemens Centaur XPT Immunoassay system. The present findings indicate the potential of the µPAD platform as a point-of-care device for the early diagnosis and prognosis of AMI.                                                                                                                                                                                                                                                                                                                                                                                                                                                                                                                                                                                                                                                                                                                                0.122742\n",
      "Clinical flow cytometry is a reliable methodology for whole blood cell phenotyping for different applications. The BD FACSLyric™ system comprises a flow cytometer available in different optical configurations, BD FACSuite™ Clinical software, and optional BD FACS™ Universal Loader. BD FACSuite Clinical software used with BD™ FC Beads and BD CS&T Beads enable universal setup for performance QC, instrument control, data acquisition/storage, online/offline data analysis, and instrument standardization. BD Biosciences sponsored the clinical evaluation of the BD FACSLyric 10-color configuration at seven clinical sites using delinked and de-identified blood specimens from HIV-infected and uninfected subjects to enumerate T-, B-, and NK-lymphocytes with the BD Multitest™ reagents (BD Multitest IMK kit and BD Multitest 6-color TBNK). Samples were analyzed on the BD FACSLyric system with BD FACSuite Clinical software, and on the BD FACSCanto™ II system with BD FACSCanto clinical software and BD FACS 7-Color Setup beads. For equivalency between methods, data (n = 362) were analyzed with Deming regression for absolute count and percentage of lymphocytes. Results gave R2 ≥0.98, with slope values ≥0.96, and slope ranges between 0.90-1.05. The percent (%) bias values were <10% for T- and NK cells and <15% for B- cells. The between-site (n = 4) total precision was tested for 5 days (2 runs/day), and gave %coefficient of variation below 10% for absolute cell counts. The stability claims were confirmed (n = 186) for the two BD Multitest reagents. The reference intervals were re-established in male and female adults (n = 134). The analysis by gender showed statistically significant differences for CD3+ and CD4+ T-cell counts and %CD4. In summary, the BD FACSLyric and the BD FACSCanto II systems generated comparable measurements of T-, B-, and NK-cells using BD Multitest assays.                                                                                                                                                                                                                                                                                                                                                                                                                                                                                       0.036170\n",
      "Predicting progression of mild cognitive impairment (MCI) to Alzheimer's disease (AD) is clinically important. In this study, we propose a dual-model radiomic analysis with multivariate Cox proportional hazards regression models to investigate promising risk factors associated with MCI conversion to AD. T1 structural magnetic resonance imaging (MRI) and <sup>18</sup>F-Fluorodeoxyglucose (FDG) positron emission tomography (PET) data, from the AD Neuroimaging Initiative database, were collected from 131 patients with MCI who converted to AD within 3 years and 132 patients with MCI without conversion within 3 years. These subjects were randomly partition into 70% training dataset and 30% test dataset with multiple times. We fused MRI and PET images by wavelet method. In a subset of subjects, a group comparison was performed using a two-sample <i>t</i>-test to determine regions of interest (ROIs) associated with MCI conversion. 172 radiomic features from ROIs for each individual were established using a published radiomics tool. Finally, L1-penalized Cox model was constructed and Harrell's C index (C-index) was used to evaluate prediction accuracy of the model. To evaluate the efficacy of our proposed method, we used a same analysis framework to evaluate MRI and PET data separately. We constructed prognostic Cox models with: clinical data, MRI images, PET images, fused MRI/PET images, and clinical variables and fused MRI/PET images in combination. The experimental results showed that captured ROIs significantly associated with conversion to AD, such as gray matter atrophy in the bilateral hippocampus and hypometabolism in the temporoparietal cortex. Imaging model (MRI/PET/fused) provided significant enhancement in prediction of conversion compared to clinical models, especially the fused-modality Cox model. Moreover, the combination of fused-modality imaging and clinical variables resulted in the greatest accuracy of prediction. The average C-index for the clinical/MRI/PET/fused/combined model in the test dataset was 0.69, 0.73, 0.73 and 0.75, and 0.78, respectively. These results suggested that a combination of radiomic analysis and Cox model analyses could be used successfully in survival analysis and may be powerful tools for personalized precision medicine patients with potential to undergo conversion from MCI to AD.    0.034962\n",
      "The complete genome of Cordyceps militaris was sequenced using single-molecule real-time (SMRT) sequencing technology at a coverage over 300×. The genome size was 32.57 Mb, and 14 contigs ranging from 0.35 to 4.58 Mb with an N50 of 2.86 Mb were assembled, including 4 contigs with telomeric sequences on both ends and an additional 8 contigs with telomeric sequences on either the 5' or 3' end. A methylome database of the genome was constructed using SMRT and m4C and m6A methylated nucleotides, and many unknown modification types were identified. The major m6A methylation motif is GA and GGAG, and the major m4C methylation motif is GC or CG/GC. In the C. militaris genome DNA, there were four types of methylated nucleotides that we confirmed using high-resolution LCMS-IT-TOF. Using PacBio Iso-Seq, a total of 31,133 complete cDNA sequences were obtained in the fruiting body. The conserved domains of the nontranscribed regions of the genome include TATA boxes, which are the initial regions of genome replication. There were 406 structural variants between the HN and CM01 strains, and there were 1,114 structural variants between the HN and ATCC strains.                                                                                                                                                                                                                                                                                                                                                                                                                                                                                                                                                                                                                                                                                                                                                                                                                                                                                                                                                                                                                                                                                                                                                                                                                                               0.016676\n",
      "Previous studies showed that the combination of an anti-Epidermal growth factor (EGFR) and a MEK-inhibitor is able to prevent the onset of resistance to anti-EGFR monoclonal antibodies in KRAS-wild type colorectal cancer (CRC), while the same combination reverts anti-EGFR primary resistance in KRAS mutated CRC cell lines. However, rapid onset of resistance is a limit to combination therapies in KRAS mutated CRC.                                                                                                                                                                                                                                                                                                                                                                                                                                                                                                                                                                                                                                                                                                                                                                                                                                                                                                                                                                                                                                                                                                                                                                                                                                                                                                                                                                                                                                                                                                                                                                                                                                                                                                                                                                                                                                                                                                                                                                                                                           0.007256\n",
      "Name: 1, dtype: float64\n",
      "Component 2:\n",
      "Histone methylation is thought to control the regulation of genetic program and the dysregulation of it has been found to be closely associated with cancer. JMJD3 has been identified as an H3K27 demethylase and its role in cancer development is context specific. The role of JMJD3 in gastric cancer (GC) has not been examined. In this study, JMJD3 expression was determined. The prognostic significance of JMJD3 and its association with clinical parameters were evaluated. JMJD3 dysregulation mechanism and targets were analyzed. The effect of JMJD3 mutation was determined by functional study. Results showed that JMJD3 was overexpressed in different patient cohorts and also by bioinformatics analysis. High JMJD3 expression was correlated with shortened overall survival in patients with GC and was an independent prognosis predictor. Genetic aberration and DNA methylation might be involved in the deregulation of JMJD3 in GC. Downstream network of JMJD3 was analyzed and several novel potential targets were identified. Furthermore, functional study discovered that both demethylase-dependent and demethylase-independent mechanisms were involved in the oncogenic role of JMJD3 in GC. Importantly, histone demethylase inhibitor GSK-J4 could reverse the oncogenic effect of JMJD3 overexpression. In conclusion, our study report the oncogenic role of JMJD3 in GC for the first time. JMJD3 might serve as an important epigenetic therapeutic target and/or prognostic predictor in GC.                                                                                                                                                                                                                                                                                                                                                    0.389744\n",
      "Tubulointerstitial nephritis antigen-like 1 (TINAGL1) is an extracellular matrix protein that plays an important role in cell adhesion and therefore modulates cell proliferation, migration, and differentiation. In addition, it is frequently upregulated in highly metastatic tumors. The aim of our study was to determine the role of TINAGL1 in the progression and metastasis of hepatocellular carcinoma (HCC).                                                                                                                                                                                                                                                                                                                                                                                                                                                                                                                                                                                                                                                                                                                                                                                                                                                                                                                                                                                                                                                                                                                                                                                                                                                                                                                                                                                                                                                                       0.385004\n",
      "Germline variants of <i>PIP4K2A</i> impact susceptibility of acute lymphoblastic leukemia (ALL) through inducing its overexpression. Although limited reports suggested the oncogenic role of <i>PIP4K2A</i> in cancers, regulatory network and prognostic effect of this gene remains poorly understood in tumorigenesis and leukemogenesis. In this study, we conducted genome-wide gene expression association analyses in pediatric B-ALL cohorts to discover expression associated genes and pathways, which is followed by the bioinformatics analyses to investigate the prognostic role of <i>PIP4K2A</i> and its related genes in multiple cancer types. 214 candidates were identified to be significantly associated with <i>PIP4K2A</i> expression in ALL patients, with known cancer-related genes rankings the top (e.g., <i>RAC2</i>, <i>RBL2</i>, and <i>TFDP1</i>). These candidates do not only tend to be clustered in the same types of leukemia, but can also separate the patients into novel molecular subtypes. <i>PIP4K2A</i> is noticed to be frequently overexpressed in multiple other types of leukemia and solid cancers from cancer cohorts including TCGA, and associated with its candidates in subtype-specific and cancer-specific manners. Interestingly, the association status varied in tumors compared to their matched normal tissues. Moreover, <i>PIP4K2A</i> and its related candidates exhibit stage-independent prognostic effects in multiple cancers, mostly with its lower expression significantly associated with longer overall survival (<i>p</i> < 0.05). Our findings reveal the transcriptional regulatory network of <i>PIP4K2A</i> in leukemia, and suggest its potentially important role on molecular subtypes of multiple cancers and subsequent treatment outcomes.                                                              0.376182\n",
      "The epithelial-mesenchymal transition (EMT) is crucial for cancer progression. Evidence has shown that miR-22 and miR-214 play a key role in colon cancer progression; however, the underlying mechanism remains to be known. The effects of miR-22 and miR-214 on EMT are contradictory in different cancers, and whether miR-22 and miR-214 are involved in the colon cancer EMT process needs to be elucidated. In this study, we evaluated the exact role and the regulation mechanism of miR-22 and miR-214 in colon cancer. After transfection with miR-22 expression vector, the cell proliferation and migration capacity of HCT116 and RKO cells were significantly suppressed. Also, E-cadherin was increased and vimentin was decreased by miR-22 overexpression. Similar effects were also observed after miR-214 expression vector transfection. Dual-luciferase reporter confirmed that BCL9L is the target gene of both miR-22 and miR-214. Silencing of BCL9L inhibits cell proliferation and migration, and the expression of E-cadherin and vimentin was also altered by BCL9L knockdown, which was consistent with miR-22 or miR-214 transfection. Furthermore, miR-22 and miR-214 inhibited tumor growth in nude mice. Moreover, although the association between BCL9L's lower expression and longer survival time was statistically nonsignificant, a trend existed; further studies in a larger cohort are needed. Collectively, these data suggest that miR-22 and miR-214 inhibit cell proliferation, migration, and EMT of colon cancer, most likely by targeting BCL9L.-Sun, R., Liu, Z., Han, L., Yang, Y., Wu, F., Jiang, Q., Zhang, H., Ma, R., Miao, J., He, K., Wang, X., Zhou, D., Huang, C. miR-22 and miR-214 targeting BCL9L inhibit proliferation, metastasis, and epithelial-mesenchymal transition by down-regulating Wnt signliang in colon cancer.    0.336630\n",
      "The aim of this study was to determine the optimal number of examined lymph nodes (ELNs) for accurate staging of pancreatic cancer using the nodal staging score model.                                                                                                                                                                                                                                                                                                                                                                                                                                                                                                                                                                                                                                                                                                                                                                                                                                                                                                                                                                                                                                                                                                                                                                                                                                                                                                                                                                                                                                                                                                                                                                                                                                                                                                                        0.269604\n",
      "Age- and body mass index (BMI)-adjusted mammographic density is one the strongest breast cancer risk factors. DNA methylation is a molecular mechanism that could underlie inter-individual variation in mammographic density. We aimed to investigate the association between breast cancer risk-predicting mammographic density measures and blood DNA methylation. For 436 women from the Australian Mammographic Density Twins and Sisters Study and 591 women from the Melbourne Collaborative Cohort Study, mammographic density (dense area, non-dense area and percentage dense area) defined by the conventional brightness threshold was measured using the CUMULUS software, and peripheral blood DNA methylation was measured using the HumanMethylation450 (HM450) BeadChip assay. Associations between DNA methylation at >400,000 sites and mammographic density measures adjusted for age and BMI were assessed within each cohort and pooled using fixed-effect meta-analysis. Associations with methylation at genetic loci known to be associated with mammographic density were also examined. We found no genome-wide significant (P<10<sup>-7</sup> ) association for any mammographic density measure from the meta-analysis, or from the cohort-specific analyses. None of the 299 methylation sites located at genetic loci associated with mammographic density was associated with any mammographic density measure after adjusting for multiple testing (all P>0.05/299 = 1.7 × 10<sup>-4</sup> ). In summary, our study did not detect associations between blood DNA methylation, as measured by the HM450 assay, and conventional mammographic density measures that predict breast cancer risk. This article is protected by copyright. All rights reserved.                                                                                                   0.244155\n",
      "Multiparametric magnetic resonance imaging (mpMRI) has transformed the management of localized prostate cancer by improving identification of clinically significant disease at diagnosis. Approximately 20% of primary prostate tumors are invisible to mpMRI, and we hypothesize that this invisibility reflects fundamental molecular properties of the tumor. We therefore profiled the genomes and transcriptomes of 40 International Society of Urological Pathology grade 2 tumors: 20 mpMRI-invisible (Prostate Imaging-Reporting and Data System [PI-RADS] v2 <3) and 20 mpMRI-visible (PI-RADS v2 5) tumors. mpMRI-visible tumors were enriched in hallmarks of nimbosus, an aggressive pathological, molecular, and microenvironmental phenomenon in prostate cancer. These hallmarks included genomes with increased mutation density, a higher prevalence of intraductal carcinoma/cribriform architecture pathology, and altered abundance of 102 transcripts, including overexpression of noncoding RNAs such as SCHLAP1. Multiple small nucleolar RNAs (snoRNAs) were identified, and a snoRNA signature synergized with nimbosus hallmarks to discriminate visible from invisible tumors. These data suggest a confluence of aggressive molecular and microenvironmental phenomena underlie mpMRI visibility of localized prostate cancer. PATIENT SUMMARY: We examined the correlation between tumor biology and magnetic resonance imaging (MRI) visibility in a group of patients with low- intermediate-risk prostate cancer. We observed that MRI findings are associated with biological features of aggressive prostate cancer.                                                                                                                                                                                                                                        0.219897\n",
      "The purpose of this study was to investigate the effectiveness and safety of spinal stereotactic radiosurgery (SRS) in treating spinal metastasis with epidural spinal cord compression (ESCC).                                                                                                                                                                                                                                                                                                                                                                                                                                                                                                                                                                                                                                                                                                                                                                                                                                                                                                                                                                                                                                                                                                                                                                                                                                                                                                                                                                                                                                                                                                                                                                                                                                                                                                0.163058\n",
      "Multiple Myeloma (MM) is an incurable disease characterized by a clonal evolution across the course of the diseases and multiple lines of treatment. Among genomic drivers of the disease, alterations of the tumor suppressor <i>TP53</i> are associated with poor outcomes. In physiological situation, once activated by oncogenic stress or DNA damage, p53 induces either cell-cycle arrest or apoptosis depending on the cellular context. Its inactivation participates to drug resistance in MM. The frequency of <i>TP53</i> alterations increases along with the progression of the disease, from 5 at diagnosis to 75% at late relapses. Multiple mechanisms of regulation lead to decreased expression of p53, such as deletion 17p, <i>TP53</i> mutations, specific microRNAs overexpression, <i>TP53</i> promoter methylations, and <i>MDM2</i> overexpression. Several therapeutic approaches aim to target the p53 pathway, either by blocking its interaction with MDM2 or by restoring the function of the altered protein. In this review, we describe the mechanism of deregulation of <i>TP53</i> in MM, its role in MM progression, and the therapeutic options to interact with the <i>TP53</i> pathway.                                                                                                                                                                                                                                                                                                                                                                                                                                                                                                                                                                                                                                                                0.139602\n",
      "The complete genome of Cordyceps militaris was sequenced using single-molecule real-time (SMRT) sequencing technology at a coverage over 300×. The genome size was 32.57 Mb, and 14 contigs ranging from 0.35 to 4.58 Mb with an N50 of 2.86 Mb were assembled, including 4 contigs with telomeric sequences on both ends and an additional 8 contigs with telomeric sequences on either the 5' or 3' end. A methylome database of the genome was constructed using SMRT and m4C and m6A methylated nucleotides, and many unknown modification types were identified. The major m6A methylation motif is GA and GGAG, and the major m4C methylation motif is GC or CG/GC. In the C. militaris genome DNA, there were four types of methylated nucleotides that we confirmed using high-resolution LCMS-IT-TOF. Using PacBio Iso-Seq, a total of 31,133 complete cDNA sequences were obtained in the fruiting body. The conserved domains of the nontranscribed regions of the genome include TATA boxes, which are the initial regions of genome replication. There were 406 structural variants between the HN and CM01 strains, and there were 1,114 structural variants between the HN and ATCC strains.                                                                                                                                                                                                                                                                                                                                                                                                                                                                                                                                                                                                                                                                                    0.134095\n",
      "Name: 2, dtype: float64\n",
      "Component 3:\n",
      "Supercritical fluid chromatography (SFC) is a safe and ecofriendly analytical technique that has not been fully applied to the analysis of traditional Chinese medicine (TCM). This is the first study on the separation of six quality markers (Q-markers) including paeoniflorin, albiflorin, benzoyl paeoniflorin, oxypaeoniflorin, gallic acid, and benzoic acid from raw, wine-baked, and vinegar-baked Paeoniae Alba Radix (PAR) by SFC. Optimum separation was achieved on an HSS C<sub>18</sub> SB column (100×3.0 mm, 1.8 μm particles) with a gradient elution of high-purity carbon dioxide as mobile phase A and methanol/acetonitrile (70:30, v/v) with 0.10% phosphoric acid as mobile phase B. The flow rate was set at 0.7 mL/min for 15.0 min. The method was validated in terms of the overall intraday and interday precision, with relative standard deviation (RSDs) of 0.87-2.87% and 1.47-3.63%, respectively. The recoveries were 98.10-103.60% with an RSD of 1.00-3.40%. The stability of the RSD values was in the range of 1.10-3.78%. The developed approach was successfully applied and provides a valuable reference for the quality assessment of PAR and processed PAR. The results also revealed that the standardization of processing technology is of great significance to the fluctuations in quality before and after the processing of TCM.                                                                                                                                                                                                                                                                                                                                                                                                                                                                                                                                                                                                                                                                                                                                                                                                                                                                                                                                                                                                                                                                     0.415333\n",
      "We propose a method for recruiting asymptomatic Amyloid positive individuals in clinical trials, using a two-step process. We first select during a pre-screening phase a subset of individuals which are more likely to be amyloid positive based on the automatic analysis of data acquired during routine clinical practice, before doing a confirmatory PET-scan to these selected individuals only. This method leads to an increased number of recruitments and to a reduced number of PET-scans, resulting in a decrease in overall recruitment costs. We validate our method on three different cohorts, and consider five different classification algorithms for the pre-screening phase. We show that the best results are obtained using solely cognitive, genetic and socio-demographic features, as the slight increased performance when using MRI or longitudinal data is balanced by the cost increase they induce. We show that the proposed method generalizes well when tested on an independent cohort, and that the characteristics of the selected set of individuals are identical to the characteristics of a population selected in a standard way. The proposed approach shows how Machine Learning can be used effectively in practice to optimize recruitment costs in clinical trials.                                                                                                                                                                                                                                                                                                                                                                                                                                                                                                                                                                                                                                                                                                                                                                                                                                                                                                                                                                                                                                                                                                                                      0.398107\n",
      "Predicting progression of mild cognitive impairment (MCI) to Alzheimer's disease (AD) is clinically important. In this study, we propose a dual-model radiomic analysis with multivariate Cox proportional hazards regression models to investigate promising risk factors associated with MCI conversion to AD. T1 structural magnetic resonance imaging (MRI) and <sup>18</sup>F-Fluorodeoxyglucose (FDG) positron emission tomography (PET) data, from the AD Neuroimaging Initiative database, were collected from 131 patients with MCI who converted to AD within 3 years and 132 patients with MCI without conversion within 3 years. These subjects were randomly partition into 70% training dataset and 30% test dataset with multiple times. We fused MRI and PET images by wavelet method. In a subset of subjects, a group comparison was performed using a two-sample <i>t</i>-test to determine regions of interest (ROIs) associated with MCI conversion. 172 radiomic features from ROIs for each individual were established using a published radiomics tool. Finally, L1-penalized Cox model was constructed and Harrell's C index (C-index) was used to evaluate prediction accuracy of the model. To evaluate the efficacy of our proposed method, we used a same analysis framework to evaluate MRI and PET data separately. We constructed prognostic Cox models with: clinical data, MRI images, PET images, fused MRI/PET images, and clinical variables and fused MRI/PET images in combination. The experimental results showed that captured ROIs significantly associated with conversion to AD, such as gray matter atrophy in the bilateral hippocampus and hypometabolism in the temporoparietal cortex. Imaging model (MRI/PET/fused) provided significant enhancement in prediction of conversion compared to clinical models, especially the fused-modality Cox model. Moreover, the combination of fused-modality imaging and clinical variables resulted in the greatest accuracy of prediction. The average C-index for the clinical/MRI/PET/fused/combined model in the test dataset was 0.69, 0.73, 0.73 and 0.75, and 0.78, respectively. These results suggested that a combination of radiomic analysis and Cox model analyses could be used successfully in survival analysis and may be powerful tools for personalized precision medicine patients with potential to undergo conversion from MCI to AD.    0.341925\n",
      "The aim of the study was to evaluate the postoperative endoscopic score and the quality of life (QoL) in two groups of adults undergoing septoplasty with turbinoplasty and who were treated after surgery with a nasal spray containing silver vitellinate, hyaluronic acid and sodium benzoate, or saline solution alone. This single-blind randomized study was carried out on 54 patients (30 males, and 24 females, mean age 33.5±2.7 years) undergoing septoplasty and volumetric tissue reduction of inferior turbinates for nasal obstruction. All subjects underwent the Visual Analogue Scale (VAS) questionnaire and the nasal endoscopy score by Lund and Kennedy (LK) at baseline before surgery (T0), 15 days (T15) and 21 days (T21) after treatment. All subjects were randomized into 2 groups, the experimental arm, group I (GI), and the control arm, group II (GII). Patients were given the treatment, a nasal spray containing silver vitellinate, hyaluronic acid and sodium benzoate for group I and a saline solution alone (sodium chloride 0.9%) for group II. After therapy, better VAS and LK scores were found (p less than0.05) in the GI in GII. No patients reported adverse reactions or complications. Our findings suggest that silver vitellinate, hyaluronic acid and sodium benzoate nasal spray improved not only the endoscopic score, but also the quality of life (QoL) in the early postoperative period after septoplasty. In addition, the absence of adverse reactions or complications pointed out the tolerability and safety of the treatment.                                                                                                                                                                                                                                                                                                                                                                                                                                                                                                                                                                                                                                                                                                                                                                                                                                                         0.295895\n",
      "Clinical flow cytometry is a reliable methodology for whole blood cell phenotyping for different applications. The BD FACSLyric™ system comprises a flow cytometer available in different optical configurations, BD FACSuite™ Clinical software, and optional BD FACS™ Universal Loader. BD FACSuite Clinical software used with BD™ FC Beads and BD CS&T Beads enable universal setup for performance QC, instrument control, data acquisition/storage, online/offline data analysis, and instrument standardization. BD Biosciences sponsored the clinical evaluation of the BD FACSLyric 10-color configuration at seven clinical sites using delinked and de-identified blood specimens from HIV-infected and uninfected subjects to enumerate T-, B-, and NK-lymphocytes with the BD Multitest™ reagents (BD Multitest IMK kit and BD Multitest 6-color TBNK). Samples were analyzed on the BD FACSLyric system with BD FACSuite Clinical software, and on the BD FACSCanto™ II system with BD FACSCanto clinical software and BD FACS 7-Color Setup beads. For equivalency between methods, data (n = 362) were analyzed with Deming regression for absolute count and percentage of lymphocytes. Results gave R2 ≥0.98, with slope values ≥0.96, and slope ranges between 0.90-1.05. The percent (%) bias values were <10% for T- and NK cells and <15% for B- cells. The between-site (n = 4) total precision was tested for 5 days (2 runs/day), and gave %coefficient of variation below 10% for absolute cell counts. The stability claims were confirmed (n = 186) for the two BD Multitest reagents. The reference intervals were re-established in male and female adults (n = 134). The analysis by gender showed statistically significant differences for CD3+ and CD4+ T-cell counts and %CD4. In summary, the BD FACSLyric and the BD FACSCanto II systems generated comparable measurements of T-, B-, and NK-cells using BD Multitest assays.                                                                                                                                                                                                                                                                                                                                                                                                                                                                                       0.289294\n",
      "The risk of neural tube defect (NTD)-affected pregnancies is reduced with adequate folic acid intake during early pregnancy. However, NTDs have been observed among offspring of women with adequate folic acid intake. Some of these women are possibly not absorbing enough folic acid. Because lactase deficiency can lead to poor nutrient absorption, we hypothesized that lactase-deficient women will be at increased risk of having offspring with NTDs.                                                                                                                                                                                                                                                                                                                                                                                                                                                                                                                                                                                                                                                                                                                                                                                                                                                                                                                                                                                                                                                                                                                                                                                                                                                                                                                                                                                                                                                                                                                                                                                                                                                                                                                                                                                                                                                                                                                                                                                          0.274063\n",
      "The aim of this study was to determine the optimal number of examined lymph nodes (ELNs) for accurate staging of pancreatic cancer using the nodal staging score model.                                                                                                                                                                                                                                                                                                                                                                                                                                                                                                                                                                                                                                                                                                                                                                                                                                                                                                                                                                                                                                                                                                                                                                                                                                                                                                                                                                                                                                                                                                                                                                                                                                                                                                                                                                                                                                                                                                                                                                                                                                                                                                                                                                                                                                                                                   0.242910\n",
      "This study proposes an optical coherence tomography angiography (OCTA) frame-averaging method and investigates the effects of the number of frames acquired and averaged on metrics quantifying the foveal avascular zone (FAZ), vessel morphology, and parafoveal intercapillary area (PICA).                                                                                                                                                                                                                                                                                                                                                                                                                                                                                                                                                                                                                                                                                                                                                                                                                                                                                                                                                                                                                                                                                                                                                                                                                                                                                                                                                                                                                                                                                                                                                                                                                                                                                                                                                                                                                                                                                                                                                                                                                                                                                                                                                            0.206607\n",
      "In this paper we present for the first time a system comprised of two mobile phones, one for illumination and the other for microscopy, as a portable, user-friendly, and cost-effective microscopy platform for a wide range of applications. Versatile and adaptive illumination is made with a Retina display of an Apple mobile phone device. The phone screen is used to project various illumination patterns onto the specimen being imaged, each corresponding to a different illumination mode, such as bright-field, dark-field, point illumination, Rheinberg illumination, and fluorescence microscopy. The second phone (a Nokia phone) is modified to record microscopic images about the sample. This imaging platform provides a high spatial resolution of at least 2 μm, a large field-of-view of 3.6 × 2.7 mm, and a working distance of 0.6 mm. We demonstrate the performance of this platform for the visualization of microorganisms within microfluidic devices to gather qualitative and quantitative information regarding microorganism morphology, dimension, count, and velocity/trajectories in the x-y plane.                                                                                                                                                                                                                                                                                                                                                                                                                                                                                                                                                                                                                                                                                                                                                                                                                                                                                                                                                                                                                                                                                                                                                                                                                                                                                                              0.160348\n",
      "Age- and body mass index (BMI)-adjusted mammographic density is one the strongest breast cancer risk factors. DNA methylation is a molecular mechanism that could underlie inter-individual variation in mammographic density. We aimed to investigate the association between breast cancer risk-predicting mammographic density measures and blood DNA methylation. For 436 women from the Australian Mammographic Density Twins and Sisters Study and 591 women from the Melbourne Collaborative Cohort Study, mammographic density (dense area, non-dense area and percentage dense area) defined by the conventional brightness threshold was measured using the CUMULUS software, and peripheral blood DNA methylation was measured using the HumanMethylation450 (HM450) BeadChip assay. Associations between DNA methylation at >400,000 sites and mammographic density measures adjusted for age and BMI were assessed within each cohort and pooled using fixed-effect meta-analysis. Associations with methylation at genetic loci known to be associated with mammographic density were also examined. We found no genome-wide significant (P<10<sup>-7</sup> ) association for any mammographic density measure from the meta-analysis, or from the cohort-specific analyses. None of the 299 methylation sites located at genetic loci associated with mammographic density was associated with any mammographic density measure after adjusting for multiple testing (all P>0.05/299 = 1.7 × 10<sup>-4</sup> ). In summary, our study did not detect associations between blood DNA methylation, as measured by the HM450 assay, and conventional mammographic density measures that predict breast cancer risk. This article is protected by copyright. All rights reserved.                                                                                                                                                                                                                                                                                                                                                                                                                                                                                                                                                                                                                                                              0.141117\n",
      "Name: 3, dtype: float64\n",
      "Component 4:\n",
      "Hepatitis C virus (HCV)-related mixed cryoglobulinemia vasculitis (MCV) is characterized by the expansion of rheumatoid factor-producing B-cell clones. The aim of this study was to assess whether B-cell clones may persist in these patients after the clearance of the virus with antiviral therapy, and whether their persistence influences clinical outcomes.                                                                                                                                                                                                                                                                                                                                                                                                                                                                                                                                                                                                                                                                                                                                                                                                                                                                                                                                                                                                                                                                                                                                                                                                                                 0.429530\n",
      "The use of video examinations (VE) may improve patient care by offering them a low-cost and easy access to physicians, save traveling expenses and shorten waiting time. The aim of this study was to validate the use of Smartphones for distant assessment of shoulder function by comparing the Constant scores (CS) of patients obtained by both VE and conventional face-to-face (FTF) examination.                                                                                                                                                                                                                                                                                                                                                                                                                                                                                                                                                                                                                                                                                                                                                                                                                                                                                                                                                                                                                                                                                                                                                                                             0.343677\n",
      "Induced pluripotent stem cell (iPSC)‒based regenerative therapy is a promising strategy for cardiovascular disease treatment; however, the method is limited by the myocardial retention of grafted iPSCs. Thus, an injection protocol that efficiently introduces and retains human iPSC-derived cardiomyocytes (hiPSC-CMs) within the myocardium is urgently needed. The objective of the present study was to develop a method to improve the retention of hiPSCs in the myocardium for cardiac therapy.                                                                                                                                                                                                                                                                                                                                                                                                                                                                                                                                                                                                                                                                                                                                                                                                                                                                                                                                                                                                                                                                                          0.315285\n",
      "Tubulointerstitial nephritis antigen-like 1 (TINAGL1) is an extracellular matrix protein that plays an important role in cell adhesion and therefore modulates cell proliferation, migration, and differentiation. In addition, it is frequently upregulated in highly metastatic tumors. The aim of our study was to determine the role of TINAGL1 in the progression and metastasis of hepatocellular carcinoma (HCC).                                                                                                                                                                                                                                                                                                                                                                                                                                                                                                                                                                                                                                                                                                                                                                                                                                                                                                                                                                                                                                                                                                                                                                             0.277241\n",
      "The aim of this study was to determine the optimal number of examined lymph nodes (ELNs) for accurate staging of pancreatic cancer using the nodal staging score model.                                                                                                                                                                                                                                                                                                                                                                                                                                                                                                                                                                                                                                                                                                                                                                                                                                                                                                                                                                                                                                                                                                                                                                                                                                                                                                                                                                                                                              0.269162\n",
      "Computer-adaptive tests (CAT) use individualised sets of questions to assess patient-reported health states, whereas static (conventional) questionnaires present the same questions to all patients. CAT has been shown to increase measurement precision and reduce assessment length. In our study, we investigated if patients perceive CAT questions as more appropriate than static questionnaires, a claim that is frequently associated with CAT measures.                                                                                                                                                                                                                                                                                                                                                                                                                                                                                                                                                                                                                                                                                                                                                                                                                                                                                                                                                                                                                                                                                                                                   0.261841\n",
      "The purpose of this study was to investigate the effectiveness and safety of spinal stereotactic radiosurgery (SRS) in treating spinal metastasis with epidural spinal cord compression (ESCC).                                                                                                                                                                                                                                                                                                                                                                                                                                                                                                                                                                                                                                                                                                                                                                                                                                                                                                                                                                                                                                                                                                                                                                                                                                                                                                                                                                                                      0.228037\n",
      "The aim of the study was to evaluate the postoperative endoscopic score and the quality of life (QoL) in two groups of adults undergoing septoplasty with turbinoplasty and who were treated after surgery with a nasal spray containing silver vitellinate, hyaluronic acid and sodium benzoate, or saline solution alone. This single-blind randomized study was carried out on 54 patients (30 males, and 24 females, mean age 33.5±2.7 years) undergoing septoplasty and volumetric tissue reduction of inferior turbinates for nasal obstruction. All subjects underwent the Visual Analogue Scale (VAS) questionnaire and the nasal endoscopy score by Lund and Kennedy (LK) at baseline before surgery (T0), 15 days (T15) and 21 days (T21) after treatment. All subjects were randomized into 2 groups, the experimental arm, group I (GI), and the control arm, group II (GII). Patients were given the treatment, a nasal spray containing silver vitellinate, hyaluronic acid and sodium benzoate for group I and a saline solution alone (sodium chloride 0.9%) for group II. After therapy, better VAS and LK scores were found (p less than0.05) in the GI in GII. No patients reported adverse reactions or complications. Our findings suggest that silver vitellinate, hyaluronic acid and sodium benzoate nasal spray improved not only the endoscopic score, but also the quality of life (QoL) in the early postoperative period after septoplasty. In addition, the absence of adverse reactions or complications pointed out the tolerability and safety of the treatment.    0.215513\n",
      "Increasing evidence has suggested that the presence of remnant lipoproteins is a significant risk factor for atherosclerosis. Remnant lipoproteins are lipoproteins that are rich in triglycerides (TGs), and the main components include very-low-density lipoprotein (VLDL) in the fasting state. Diabetic patients often have hypertriglyceridemia with elevated levels of VLDL cholesterol but normal levels of low-density lipoprotein cholesterol (LDL-C). The aim of the present study was to elucidate the potential role of remnant lipoproteins-induced atherosclerosis in the occurrence and development of in-stent restenosis (ISR) in diabetic patients with coronary artery disease.                                                                                                                                                                                                                                                                                                                                                                                                                                                                                                                                                                                                                                                                                                                                                                                                                                                                                                  0.207216\n",
      "With the widespread use of sex-steroid hormones in contraceptives and hormone replacement therapy, there is an increasing need for reliable analytical methods. We report the development of a sensitive and robust UPLC-MS/MS method for quantitation of both endogenous and synthetic sex-steroid hormones in human serum.                                                                                                                                                                                                                                                                                                                                                                                                                                                                                                                                                                                                                                                                                                                                                                                                                                                                                                                                                                                                                                                                                                                                                                                                                                                                         0.151911\n",
      "Name: 4, dtype: float64\n"
     ]
    }
   ],
   "source": [
    "svd= TruncatedSVD(130)\n",
    "lsa = make_pipeline(svd, Normalizer(copy=False))\n",
    "X_train_lsa = lsa.fit_transform(X_train_tfidf)\n",
    "\n",
    "variance_explained=svd.explained_variance_ratio_\n",
    "total_variance = variance_explained.sum()\n",
    "print(\"Percent variance captured by all components:\",total_variance*100)\n",
    "\n",
    "\n",
    "abs_by_component=pd.DataFrame(X_train_lsa,index=X_train)\n",
    "for i in range(5):\n",
    "    print('Component {}:'.format(i))\n",
    "    print(abs_by_component.loc[:,i].sort_values(ascending=False)[0:10])"
   ]
  },
  {
   "cell_type": "code",
   "execution_count": 15,
   "metadata": {},
   "outputs": [
    {
     "data": {
      "image/png": "[encoded data removed]",
      "text/plain": [
       "<Figure size 432x288 with 2 Axes>"
      ]
     },
     "metadata": {
      "needs_background": "light"
     },
     "output_type": "display_data"
    },
    {
     "name": "stdout",
     "output_type": "stream",
     "text": [
      "Key:\n",
      "0 Multiple Myeloma (MM) is an incurable disease characterized by a clonal evolution across the course of the diseases and multiple lines of treatment. Among genomic drivers of the disease, alterations of the tumor suppressor <i>TP53</i> are associated with poor outcomes. In physiological situation, once activated by oncogenic stress or DNA damage, p53 induces either cell-cycle arrest or apoptosis depending on the cellular context. Its inactivation participates to drug resistance in MM. The frequency of <i>TP53</i> alterations increases along with the progression of the disease, from 5 at diagnosis to 75% at late relapses. Multiple mechanisms of regulation lead to decreased expression of p53, such as deletion 17p, <i>TP53</i> mutations, specific microRNAs overexpression, <i>TP53</i> promoter methylations, and <i>MDM2</i> overexpression. Several therapeutic approaches aim to target the p53 pathway, either by blocking its interaction with MDM2 or by restoring the function of the altered protein. In this review, we describe the mechanism of deregulation of <i>TP53</i> in MM, its role in MM progression, and the therapeutic options to interact with the <i>TP53</i> pathway.\n",
      "1 The epithelial-mesenchymal transition (EMT) is crucial for cancer progression. Evidence has shown that miR-22 and miR-214 play a key role in colon cancer progression; however, the underlying mechanism remains to be known. The effects of miR-22 and miR-214 on EMT are contradictory in different cancers, and whether miR-22 and miR-214 are involved in the colon cancer EMT process needs to be elucidated. In this study, we evaluated the exact role and the regulation mechanism of miR-22 and miR-214 in colon cancer. After transfection with miR-22 expression vector, the cell proliferation and migration capacity of HCT116 and RKO cells were significantly suppressed. Also, E-cadherin was increased and vimentin was decreased by miR-22 overexpression. Similar effects were also observed after miR-214 expression vector transfection. Dual-luciferase reporter confirmed that BCL9L is the target gene of both miR-22 and miR-214. Silencing of BCL9L inhibits cell proliferation and migration, and the expression of E-cadherin and vimentin was also altered by BCL9L knockdown, which was consistent with miR-22 or miR-214 transfection. Furthermore, miR-22 and miR-214 inhibited tumor growth in nude mice. Moreover, although the association between BCL9L's lower expression and longer survival time was statistically nonsignificant, a trend existed; further studies in a larger cohort are needed. Collectively, these data suggest that miR-22 and miR-214 inhibit cell proliferation, migration, and EMT of colon cancer, most likely by targeting BCL9L.-Sun, R., Liu, Z., Han, L., Yang, Y., Wu, F., Jiang, Q., Zhang, H., Ma, R., Miao, J., He, K., Wang, X., Zhou, D., Huang, C. miR-22 and miR-214 targeting BCL9L inhibit proliferation, metastasis, and epithelial-mesenchymal transition by down-regulating Wnt signliang in colon cancer.\n",
      "2 Tubulointerstitial nephritis antigen-like 1 (TINAGL1) is an extracellular matrix protein that plays an important role in cell adhesion and therefore modulates cell proliferation, migration, and differentiation. In addition, it is frequently upregulated in highly metastatic tumors. The aim of our study was to determine the role of TINAGL1 in the progression and metastasis of hepatocellular carcinoma (HCC).\n",
      "3 Simple visual items and complex real-world objects are stored into visual working memory as a collection of independent features, not as whole or integrated objects. Storing faces into memory might differ, however, since previous studies have reported perceptual and memory advantage for whole faces compared to other objects. We investigated whether facial features can be integrated in a statistically optimal fashion and whether memory maintenance disrupts this integration. The observers adjusted a probe - either a whole face or isolated features (eyes or mouth region) - to match the identity of a target while viewing both stimuli simultaneously or after a 1.5 second retention period. Precision was better for the whole face compared to the isolated features. Perceptual precision was higher than memory precision, as expected, and memory precision further declined as the number of memorized items was increased from one to four. Interestingly, the whole-face precision was better predicted by models assuming injection of memory noise followed by integration of features than by models assuming integration of features followed by the memory noise. The results suggest equally weighted or optimal integration of facial features and indicate that feature information is preserved in visual working memory while remembering faces.\n",
      "4 Previous studies showed that the combination of an anti-Epidermal growth factor (EGFR) and a MEK-inhibitor is able to prevent the onset of resistance to anti-EGFR monoclonal antibodies in KRAS-wild type colorectal cancer (CRC), while the same combination reverts anti-EGFR primary resistance in KRAS mutated CRC cell lines. However, rapid onset of resistance is a limit to combination therapies in KRAS mutated CRC.\n",
      "5 RNA-binding proteins (RBPs) play pivotal roles in directing RNA fate and function. Yet the current annotation of RBPs is largely limited to proteins carrying known RNA-binding domains. To systematically reveal dynamic RNA-protein interactions, we surveyed the human proteome by a protein array-based approach and identified 671 proteins with RNA-binding activity. Among these proteins, 525 lack annotated RNA-binding domains and are enriched in transcriptional and epigenetic regulators, metabolic enzymes, and small GTPases. Using an improved CLIP (crosslinking and immunoprecipitation) method, we performed genome-wide target profiling of isocitrate dehydrogenase 1 (IDH1), a novel RBP. IDH1 binds to thousands of RNA transcripts with enriched functions in transcription and chromatin regulation, cell cycle and RNA processing. Purified IDH1, but not an oncogenic mutant, binds directly to GA- or AU-rich RNA that are also enriched in IDH1 CLIP targets. Our study provides useful resources of unconventional RBPs and IDH1-bound transcriptome, and convincingly illustrates, for the first time, the in vivo and in vitro RNA targets and binding preferences of IDH1, revealing an unanticipated complexity of RNA regulation in diverse cellular processes.\n",
      "6 Untreated Obstructive sleep apnea (OSA) is associated with an increased risk of cardiometabolic diseases such as diabetes and myocardial infarction. However, it is difficult to predict which patients are at particularly high risk. This systematic review aimed to identify potentially useful circulating biomarkers that could predict cardiometabolic complications in OSA. We searched Cochrane (EBM), EMBASE, Medline, PubMed, and Web of Science databases. Search concepts included: \"Obstructive Sleep Apnea\", \"Biomarkers\" and \"Risk-Stratification\". Manuscripts were included if they studied adults with OSA, circulating (blood) markers, and relationships with clinical outcomes. After screening, 10 were included. Studies addressed cardiovascular disease, type 2 diabetes, end-stage renal disease and metabolic syndrome. In general, levels of inflammatory markers, adhesion molecules, and vascular proteins were associated with the presence of cardiometabolic disease in OSA patients. Although studies regarding prognostic circulating biomarkers in OSA are limited, a number of potentially promising biomarkers were identified in our review. However, more research is needed using prospective cohorts to determine which biomarkers are most robustly associated with and useful in predicting future cardiovascular and metabolic sequelae in OSA patients. Identification of such biomarkers could guide more selective and targeted therapy for OSA in an emerging era of precision-based medicine.\n",
      "7 <i>Objectives:</i> To carry out an integrated and stratified meta-analysis on occupational exposure to electromagnetic fields (EMFs), metals and pesticides and its effects on amyotrophic lateral sclerosis (ALS) and Parkinson's and Alzheimer's disease, and investigate the possibility of publication bias. <i>Methods</i>: In the current study, we updated our recently published meta-analyses on occupational exposures in relation to ALS, Alzheimer's and Parkinson's disease. Based on 66 original publications of good scientific epidemiological standard, according to the Meta-analysis of Observational Studies in Epidemiology (MOOSE) and the Grading of Recommendations, Assessment, Development and Evaluations (GRADE) guidelines, we analysed subgroups by carrying out stratified meta-analyses on publication year, statistical precision of the relative risk (RR) estimates, inspection of the funnel plots and test of bias. <i>Results</i>: Based on 19 studies the weighted RR for occupational exposure to EMFs was 1.26 (95% confidence interval (CI) 1.07⁻1.50) for ALS, 1.33 (95% CI 1.07⁻1.64) for Alzheimer's disease and 1.02 (95% CI 0.83⁻1.26) for Parkinson's disease. Thirty-one studies concerned occupational exposure to pesticides and the weighted RR was 1.35 (95% CI 1.02⁻1.79) for ALS, 1.50 (95% CI 0.98⁻2.29) for Alzheimer's disease and 1.66 (95% CI 1.42⁻1.94) for Parkinson's disease. Finally, 14 studies concerned occupational exposure to metals and only exposure to lead (five studies) involved an elevated risk for ALS or Parkinson's disease and the weighted RR was 1.57 (95% CI 1.11⁻2.20). The weighted RR for all the non-lead exposures was 0.97 (95% CI 0.88⁻1.06). <i>Conclusions</i>: Exposure to pesticides increased the risk of getting the mentioned neurodegenerative diseases by at least 50%. Exposure to lead was only studied for ALS and Parkinson's disease and involved 50% increased risk. Occupational exposure to EMFs seemed to involve some 10% increase in risk for ALS and Alzheimer's disease only.\n",
      "8 The purpose of this study was to investigate the effectiveness and safety of spinal stereotactic radiosurgery (SRS) in treating spinal metastasis with epidural spinal cord compression (ESCC).\n",
      "9 The correct ordering and designations for corresponding/first authors are as follows: Shanshan Wang<sup>1,2*</sup>, Mingyue Zhu<sup>3</sup>, Qiaoyun Wang<sup>3</sup>, Yuli Hou<sup>4</sup>, Lei Li<sup>5</sup>, Honglei Weng<sup>6</sup>, Yan Zhao<sup>4</sup>, Dexi Chen<sup>1,2</sup>, Junli Guo<sup>3</sup>, Huiguo Ding<sup>#5</sup>, Mengsen Li<sup>#3</sup>.\n"
     ]
    }
   ],
   "source": [
    "# Compute document similarity using LSA components\n",
    "similarity = np.asarray(np.asmatrix(X_train_lsa) * np.asmatrix(X_train_lsa).T)\n",
    "#Only taking the first 10 sentences\n",
    "sim_matrix=pd.DataFrame(similarity,index=X_train).iloc[0:10,0:10]\n",
    "#Making a plot\n",
    "ax = sns.heatmap(sim_matrix,yticklabels=range(10))\n",
    "plt.show()\n",
    "\n",
    "#Generating a key for the plot.\n",
    "print('Key:')\n",
    "for i in range(10):\n",
    "    print(i,sim_matrix.index[i])"
   ]
  },
  {
   "cell_type": "code",
   "execution_count": null,
   "metadata": {},
   "outputs": [],
   "source": []
  }
 ],
 "metadata": {
  "kernelspec": {
   "display_name": "Python 3",
   "language": "python",
   "name": "python3"
  },
  "language_info": {
   "codemirror_mode": {
    "name": "ipython",
    "version": 3
   },
   "file_extension": ".py",
   "mimetype": "text/x-python",
   "name": "python",
   "nbconvert_exporter": "python",
   "pygments_lexer": "ipython3",
   "version": "3.6.7"
  }
 },
 "nbformat": 4,
 "nbformat_minor": 2
}
